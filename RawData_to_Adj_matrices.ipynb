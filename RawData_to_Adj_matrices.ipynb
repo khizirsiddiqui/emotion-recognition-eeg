{
 "cells": [
  {
   "cell_type": "markdown",
   "metadata": {},
   "source": [
    "# Importing Useful Libraries"
   ]
  },
  {
   "cell_type": "code",
   "execution_count": 16,
   "metadata": {},
   "outputs": [],
   "source": [
    "import numpy as np\n",
    "import scipy.io\n",
    "from scipy.signal import kaiserord, lfilter, firwin, freqz, kaiser, convolve, hamming, remez, hann\n",
    "import matplotlib as mpl\n",
    "import matplotlib.pyplot as plt\n",
    "import os"
   ]
  },
  {
   "cell_type": "markdown",
   "metadata": {},
   "source": [
    "# Folder Structure"
   ]
  },
  {
   "cell_type": "code",
   "execution_count": null,
   "metadata": {},
   "outputs": [],
   "source": [
    "# ----Main Folder\n",
    "#   |------Advertisments(ex CLOWNS, HT15, HT14,........) Total 18 Advertisment\n",
    "#   |    |------Subjects(ex Anish, Arijit,......) per Advertisement 14 Subjects"
   ]
  },
  {
   "cell_type": "code",
   "execution_count": 81,
   "metadata": {},
   "outputs": [
    {
     "name": "stdout",
     "output_type": "stream",
     "text": [
      "['CLOWNS', 'HT15', '.DS_Store', 'HT14', 'HT13', '7', 'MERCEDES', '1', 'DORITOS', 'GILETTE', 'POOLBOY', 'HT8', 'HT16', 'HT18', 'HT20', 'HT21', '.ipynb_checkpoints', 'TYF', '2', '5']\n"
     ]
    }
   ],
   "source": [
    "# Raw data is present in this directory in .mat format\n",
    "Data_Dir=\"../desktop/sop/\"\n",
    "\n",
    "#Destination folder where we want to save adj_matrices\n",
    "New_Folder = \"../desktop/adj_matrices/\" \n",
    "\n",
    "print(os.listdir(Data_Dir))"
   ]
  },
  {
   "cell_type": "code",
   "execution_count": 18,
   "metadata": {},
   "outputs": [],
   "source": [
    "# It contains Coefficients of Alpha,Beta,Delta,Theta and Gamma channels\n",
    "filter_coef = scipy.io.loadmat(\"../desktop/filter_coef.mat\")"
   ]
  },
  {
   "cell_type": "markdown",
   "metadata": {},
   "source": [
    "# Basic_Filter"
   ]
  },
  {
   "cell_type": "code",
   "execution_count": 1,
   "metadata": {},
   "outputs": [],
   "source": [
    "# Basic_Filter is used to Filter data along one-dimension with an IIR or FIR filter."
   ]
  },
  {
   "cell_type": "code",
   "execution_count": 50,
   "metadata": {},
   "outputs": [],
   "source": [
    "\n",
    "def basic_filter(inputs, alpha, beta, delta, theta, gamma):\n",
    "  a=np.empty(inputs.shape)\n",
    "  b=np.empty(inputs.shape)\n",
    "  d=np.empty(inputs.shape)\n",
    "  t=np.empty(inputs.shape)\n",
    "  g=np.empty(inputs.shape)\n",
    "  for i in range(0,32):\n",
    "    a[i,:] = scipy.signal.lfilter(alpha.flatten(),1,inputs[i, : ])\n",
    "    b[i,:] = scipy.signal.lfilter(beta.flatten(),1,inputs[i, : ])\n",
    "    d[i,:] = scipy.signal.lfilter(delta.flatten(),1,inputs[i, : ])\n",
    "    t[i,:] = scipy.signal.lfilter(theta.flatten(),1,inputs[i, : ])\n",
    "    g[i,:] = scipy.signal.lfilter(gamma.flatten(),1,inputs[i, : ])\n",
    "  return(a,b,d,t,g)"
   ]
  },
  {
   "cell_type": "markdown",
   "metadata": {},
   "source": [
    "# Frequency wise Window_mean"
   ]
  },
  {
   "cell_type": "code",
   "execution_count": 2,
   "metadata": {},
   "outputs": [],
   "source": [
    "# Window_mean is used to take the mean of the window of given length"
   ]
  },
  {
   "cell_type": "code",
   "execution_count": 65,
   "metadata": {},
   "outputs": [],
   "source": [
    "def window_mean_alpha(X, window_len,i,j):\n",
    "    windowed_signal = np.empty([33,1])\n",
    "    l = 0;\n",
    "    for step in range(0, X.shape[1], window_len):\n",
    "        windowed_signal = np.empty([33,1])\n",
    "        window = X[ : , step:step+window_len]\n",
    "        windowed_signal = np.append(windowed_signal, window,axis = 1)\n",
    "        windowed_signal = np.array(windowed_signal[ : , 1:])\n",
    "        adj_mat_a01 = gen_adj_mat(windowed_signal, 20)\n",
    "        l+=1\n",
    "        if not os.path.exists(New_Folder+i+\"/\"+j+\"/alpha\"):\n",
    "            os.makedirs(New_Folder+i+\"/\"+j+\"/alpha\")\n",
    "        np.savetxt(New_Folder+i+\"/\"+j+\"/\"+\"alpha/\"+str(l)+\".csv\", adj_mat_a01,delimiter=',', fmt='%+4.4f')\n",
    "        \n",
    "    return np.array(windowed_signal[ : , 1:])"
   ]
  },
  {
   "cell_type": "code",
   "execution_count": 66,
   "metadata": {},
   "outputs": [],
   "source": [
    "def window_mean_beta(X, window_len,i,j):\n",
    "    windowed_signal = np.empty([33,1])\n",
    "    l = 0;\n",
    "    for step in range(0, X.shape[1], window_len):\n",
    "        windowed_signal = np.empty([33,1])\n",
    "        window = X[ : , step:step+window_len]\n",
    "        windowed_signal = np.append(windowed_signal, window,axis = 1)\n",
    "        windowed_signal = np.array(windowed_signal[ : , 1:])\n",
    "        adj_mat_a01 = gen_adj_mat(windowed_signal, 20)\n",
    "        l+=1\n",
    "        if not os.path.exists(New_Folder+i+\"/\"+j+\"/beta\"):\n",
    "            os.makedirs(New_Folder+i+\"/\"+j+\"/beta\")\n",
    "        np.savetxt(New_Folder+i+\"/\"+j+\"/\"+\"beta/\"+str(l)+\".csv\", adj_mat_a01,delimiter=',', fmt='%+4.4f')\n",
    "        \n",
    "    return np.array(windowed_signal[ : , 1:])"
   ]
  },
  {
   "cell_type": "code",
   "execution_count": 67,
   "metadata": {},
   "outputs": [],
   "source": [
    "def window_mean_delta(X, window_len,i,j):\n",
    "    windowed_signal = np.empty([33,1])\n",
    "    l = 0;\n",
    "    for step in range(0, X.shape[1], window_len):\n",
    "        windowed_signal = np.empty([33,1])\n",
    "        window = X[ : , step:step+window_len]\n",
    "        windowed_signal = np.append(windowed_signal, window,axis = 1)\n",
    "        windowed_signal = np.array(windowed_signal[ : , 1:])\n",
    "        adj_mat_a01 = gen_adj_mat(windowed_signal, 20)\n",
    "        l+=1\n",
    "        if not os.path.exists(New_Folder+i+\"/\"+j+\"/delta\"):\n",
    "            os.makedirs(New_Folder+i+\"/\"+j+\"/delta\")\n",
    "        np.savetxt(New_Folder+i+\"/\"+j+\"/\"+\"delta/\"+str(l)+\".csv\", adj_mat_a01,delimiter=',', fmt='%+4.4f')\n",
    "        \n",
    "    return np.array(windowed_signal[ : , 1:])"
   ]
  },
  {
   "cell_type": "code",
   "execution_count": 68,
   "metadata": {},
   "outputs": [],
   "source": [
    "def window_mean_theta(X, window_len,i,j):\n",
    "    windowed_signal = np.empty([33,1])\n",
    "    l = 0;\n",
    "    for step in range(0, X.shape[1], window_len):\n",
    "        windowed_signal = np.empty([33,1])\n",
    "        window = X[ : , step:step+window_len]\n",
    "        windowed_signal = np.append(windowed_signal, window,axis = 1)\n",
    "        windowed_signal = np.array(windowed_signal[ : , 1:])\n",
    "        adj_mat_a01 = gen_adj_mat(windowed_signal, 20)\n",
    "        l+=1\n",
    "        if not os.path.exists(New_Folder+i+\"/\"+j+\"/theta\"):\n",
    "            os.makedirs(New_Folder+i+\"/\"+j+\"/theta\")\n",
    "        np.savetxt(New_Folder+i+\"/\"+j+\"/\"+\"theta/\"+str(l)+\".csv\", adj_mat_a01,delimiter=',', fmt='%+4.4f')\n",
    "        \n",
    "    return np.array(windowed_signal[ : , 1:])"
   ]
  },
  {
   "cell_type": "code",
   "execution_count": 69,
   "metadata": {},
   "outputs": [],
   "source": [
    "def window_mean_gamma(X, window_len,i,j):\n",
    "    windowed_signal = np.empty([33,1])\n",
    "    l = 0;\n",
    "    for step in range(0, X.shape[1], window_len):\n",
    "        windowed_signal = np.empty([33,1])\n",
    "        window = X[ : , step:step+window_len]\n",
    "        windowed_signal = np.append(windowed_signal, window,axis = 1)\n",
    "        windowed_signal = np.array(windowed_signal[ : , 1:])\n",
    "        adj_mat_a01 = gen_adj_mat(windowed_signal, 20)\n",
    "        l+=1\n",
    "        if not os.path.exists(New_Folder+i+\"/\"+j+\"/gamma\"):\n",
    "            os.makedirs(New_Folder+i+\"/\"+j+\"/gamma\")\n",
    "        np.savetxt(New_Folder+i+\"/\"+j+\"/\"+\"gamma/\"+str(l)+\".csv\", adj_mat_a01,delimiter=',', fmt='%+4.4f')\n",
    "        \n",
    "    return np.array(windowed_signal[ : , 1:])"
   ]
  },
  {
   "cell_type": "markdown",
   "metadata": {},
   "source": [
    "# Function to Generate Adjacency Matrices"
   ]
  },
  {
   "cell_type": "code",
   "execution_count": 77,
   "metadata": {},
   "outputs": [],
   "source": [
    "#This Function is used to generate Adjacency matrix\n",
    "def gen_adj_mat(matrix, thresh): \n",
    "    corr = np.corrcoef(matrix)\n",
    "    adj_mat = threshold(corr,thresh)\n",
    "    return(adj_mat)"
   ]
  },
  {
   "cell_type": "code",
   "execution_count": 78,
   "metadata": {},
   "outputs": [],
   "source": [
    "# if -threshold >Correlation >threshold ==> Correlation = 0 \n",
    "# else no change\n",
    "def threshold(matrix, thresh):\n",
    "    for i in range(matrix.shape[0]):\n",
    "        for j in range(matrix.shape[1]):\n",
    "            if (matrix[i,j] > thresh/100):\n",
    "                matrix[i,j]=matrix[i,j]\n",
    "            elif (matrix[i,j]< -thresh/100):\n",
    "                matrix[i,j]=matrix[i,j]\n",
    "            else:\n",
    "                matrix[i,j]=0\n",
    "    return(matrix)"
   ]
  },
  {
   "cell_type": "markdown",
   "metadata": {},
   "source": [
    "# Main Code which generates and saves the Adjacency Matrices"
   ]
  },
  {
   "cell_type": "code",
   "execution_count": null,
   "metadata": {},
   "outputs": [],
   "source": [
    "\n",
    "for advertisements in Data_Dir:\n",
    "    if(advertisements=='.DS_Store'):\n",
    "        pass\n",
    "    else:\n",
    "        l=0;\n",
    "        if not os.path.exists(New_Folder+advertisements):\n",
    "            os.makedirs(New_Folder+advertisements)\n",
    "            \n",
    "        for subjects in os.listdir(Data_Dir+advertisements):\n",
    "            k=scipy.io.loadmat(Data_Dir+advertisements+\"/\"+subjects)\n",
    "            m_a01,m_b01,m_d01,m_t01,m_g01 = basic_filter(k['a'],filter_coef['alpha'], filter_coef['beta'], filter_coef['delta'],filter_coef['theta'],filter_coef['gamma'])\n",
    "            \n",
    "            if not os.path.exists(New_Folder+advertisements+\"/\"+subjects+\"/\"):\n",
    "                os.makedirs(New_Folder+advertisements+\"/\"+subjects+\"/\")\n",
    "            w_a01 = window_mean_alpha(m_a01,200,advertisements,subjects)\n",
    "            w_b01 = window_mean_beta(m_b01,200,advertisements,subjects)\n",
    "            w_d01 = window_mean_delta(m_d01,200,advertisements,subjects)\n",
    "            w_t01 = window_mean_theta(m_t01,200,advertisements,subjects)\n",
    "            w_g01 = window_mean_gamma(m_g01,200,advertisements,subjects)\n",
    "    "
   ]
  }
 ],
 "metadata": {
  "kernelspec": {
   "display_name": "Python 3",
   "language": "python",
   "name": "python3"
  },
  "language_info": {
   "codemirror_mode": {
    "name": "ipython",
    "version": 3
   },
   "file_extension": ".py",
   "mimetype": "text/x-python",
   "name": "python",
   "nbconvert_exporter": "python",
   "pygments_lexer": "ipython3",
   "version": "3.6.8"
  }
 },
 "nbformat": 4,
 "nbformat_minor": 2
}
