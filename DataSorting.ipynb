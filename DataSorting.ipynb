{
 "cells": [
  {
   "cell_type": "markdown",
   "metadata": {},
   "source": [
    "# Sort data in respective advertisement folders"
   ]
  },
  {
   "cell_type": "code",
   "execution_count": 5,
   "metadata": {
    "ExecuteTime": {
     "end_time": "2020-05-07T17:22:16.233236Z",
     "start_time": "2020-05-07T17:22:16.224046Z"
    }
   },
   "outputs": [],
   "source": [
    "import os\n",
    "import numpy as np\n",
    "import pandas as pd"
   ]
  },
  {
   "cell_type": "code",
   "execution_count": 11,
   "metadata": {
    "ExecuteTime": {
     "end_time": "2020-05-07T17:24:24.949410Z",
     "start_time": "2020-05-07T17:24:24.945290Z"
    }
   },
   "outputs": [],
   "source": [
    "STEP_4_DATA_LOCATION = \"./Step-4 Filtered\"                  # Location where data is stored\n",
    "SORT_DATA_END_POINT = \"./data/\"                             # Location where data will be sorted and saved"
   ]
  },
  {
   "cell_type": "code",
   "execution_count": 9,
   "metadata": {
    "ExecuteTime": {
     "end_time": "2020-05-07T17:22:23.638285Z",
     "start_time": "2020-05-07T17:22:23.461446Z"
    },
    "scrolled": true
   },
   "outputs": [],
   "source": [
    "a = os.listdir(STEP_4_DATA_LOCATION)"
   ]
  },
  {
   "cell_type": "code",
   "execution_count": 10,
   "metadata": {
    "ExecuteTime": {
     "end_time": "2020-05-07T17:22:45.978601Z",
     "start_time": "2020-05-07T17:22:45.891748Z"
    }
   },
   "outputs": [
    {
     "name": "stdout",
     "output_type": "stream",
     "text": [
      "Advertisement Types:\n",
      "['1' '2' '5' '7' '9' 'CLOWNS' 'DORITOS' 'GILETTE' 'HT13' 'HT14' 'HT15'\n",
      " 'HT16' 'HT18' 'HT20' 'HT21' 'HT8' 'MERCEDES' 'POOLBOY' 'TYF']\n"
     ]
    }
   ],
   "source": [
    "k=[]\n",
    "for i in (a):\n",
    "    count = 0;\n",
    "    j=i.split(\"_\")\n",
    "    k.append(j[3])\n",
    "l=np.unique(k)\n",
    "\n",
    "for j in range(len(l)):\n",
    "    l[j]=l[j].split(\".\")[0]\n",
    "    \n",
    "print(\"Advertisement Types:\")\n",
    "print(l)"
   ]
  },
  {
   "cell_type": "code",
   "execution_count": 5,
   "metadata": {},
   "outputs": [],
   "source": [
    "for i in l:\n",
    "    name = os.path.join(SORT_DATA_END_POINT, i)\n",
    "    os.mkdir(name)"
   ]
  },
  {
   "cell_type": "code",
   "execution_count": 6,
   "metadata": {},
   "outputs": [],
   "source": [
    "import shutil\n",
    "for i in a:\n",
    "    src = os.path.join(STEP_4_DATA_LOCATION, i)\n",
    "    j=i.split(\"_\")\n",
    "    k=j[3].split(\".\")\n",
    "    des = os.path.join(SORT_DATA_END_POINT, k[0])\n",
    "    shutil.copy(src, des)"
   ]
  },
  {
   "cell_type": "code",
   "execution_count": null,
   "metadata": {},
   "outputs": [],
   "source": []
  }
 ],
 "metadata": {
  "kernelspec": {
   "display_name": "Python 3",
   "language": "python",
   "name": "python3"
  },
  "language_info": {
   "codemirror_mode": {
    "name": "ipython",
    "version": 3
   },
   "file_extension": ".py",
   "mimetype": "text/x-python",
   "name": "python",
   "nbconvert_exporter": "python",
   "pygments_lexer": "ipython3",
   "version": "3.7.5"
  }
 },
 "nbformat": 4,
 "nbformat_minor": 2
}
