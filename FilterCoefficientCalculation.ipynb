{
 "cells": [
  {
   "cell_type": "markdown",
   "metadata": {},
   "source": [
    "# Filter Coeffecient Calculation"
   ]
  },
  {
   "cell_type": "code",
   "execution_count": 20,
   "metadata": {
    "ExecuteTime": {
     "end_time": "2020-05-07T17:59:57.807091Z",
     "start_time": "2020-05-07T17:59:57.803749Z"
    }
   },
   "outputs": [],
   "source": [
    "import numpy as np\n",
    "import scipy.io\n",
    "from scipy.signal import kaiserord, lfilter, firwin, freqz, kaiser, convolve, hamming, remez, hann\n",
    "\n",
    "import matplotlib as mpl\n",
    "import matplotlib.pyplot as plt"
   ]
  },
  {
   "cell_type": "code",
   "execution_count": 21,
   "metadata": {
    "ExecuteTime": {
     "end_time": "2020-05-07T17:59:58.288142Z",
     "start_time": "2020-05-07T17:59:58.283929Z"
    }
   },
   "outputs": [],
   "source": [
    "USER_FILE_ADR = './data/1/ECA-Anish-October31_Step1_9_1.mat'\n",
    "FILTER_COEF_ADR = './filter_coef_{}.csv'"
   ]
  },
  {
   "cell_type": "code",
   "execution_count": 22,
   "metadata": {
    "ExecuteTime": {
     "end_time": "2020-05-07T17:59:59.078346Z",
     "start_time": "2020-05-07T17:59:59.011448Z"
    }
   },
   "outputs": [],
   "source": [
    "mat = scipy.io.loadmat(USER_FILE_ADR)"
   ]
  },
  {
   "cell_type": "code",
   "execution_count": 23,
   "metadata": {
    "ExecuteTime": {
     "end_time": "2020-05-07T17:59:59.594576Z",
     "start_time": "2020-05-07T17:59:59.582998Z"
    }
   },
   "outputs": [
    {
     "data": {
      "text/plain": [
       "(33, 65000)"
      ]
     },
     "execution_count": 23,
     "metadata": {},
     "output_type": "execute_result"
    }
   ],
   "source": [
    "mat_array = np.array(mat['a'])\n",
    "mat_array.shape"
   ]
  },
  {
   "cell_type": "code",
   "execution_count": 24,
   "metadata": {
    "ExecuteTime": {
     "end_time": "2020-05-07T18:00:00.085849Z",
     "start_time": "2020-05-07T18:00:00.079049Z"
    }
   },
   "outputs": [
    {
     "data": {
      "text/plain": [
       "(33, 65000)"
      ]
     },
     "execution_count": 24,
     "metadata": {},
     "output_type": "execute_result"
    }
   ],
   "source": [
    "# mat_seg = mat_array[...,0:1500]\n",
    "mat_seg = mat_array\n",
    "mat_seg.shape"
   ]
  },
  {
   "cell_type": "code",
   "execution_count": 25,
   "metadata": {
    "ExecuteTime": {
     "end_time": "2020-05-07T18:00:00.726222Z",
     "start_time": "2020-05-07T18:00:00.496627Z"
    }
   },
   "outputs": [
    {
     "data": {
      "image/png": "[encoded data removed]",
      "text/plain": [
       "<Figure size 432x288 with 1 Axes>"
      ]
     },
     "metadata": {
      "needs_background": "light"
     },
     "output_type": "display_data"
    }
   ],
   "source": [
    "plt.plot(mat_seg[0], 'b')\n",
    "plt.plot(mat_seg[15], 'g')\n",
    "plt.legend(['0th channel', '15th channel'])\n",
    "plt.show()"
   ]
  },
  {
   "cell_type": "code",
   "execution_count": 26,
   "metadata": {
    "ExecuteTime": {
     "end_time": "2020-05-07T18:00:00.903173Z",
     "start_time": "2020-05-07T18:00:00.893805Z"
    }
   },
   "outputs": [],
   "source": [
    "def window_mean(X, window_len=200):\n",
    "    windowed_signal = []\n",
    "    for step in range(0, len(X), window_len):\n",
    "        window = np.mean(X[step:step+window_len], axis=1)\n",
    "        windowed_signal.append(window)\n",
    "    return np.array(windowed_signal)\n",
    "\n",
    "def channel_mean_across_time(X):\n",
    "    return np.mean(X, axis=1)"
   ]
  },
  {
   "cell_type": "code",
   "execution_count": 27,
   "metadata": {
    "ExecuteTime": {
     "end_time": "2020-05-07T18:00:02.067297Z",
     "start_time": "2020-05-07T18:00:02.062681Z"
    }
   },
   "outputs": [],
   "source": [
    "fs = 500.0                      # sampling rate\n",
    "T = 1/fs                        # sample time"
   ]
  },
  {
   "cell_type": "code",
   "execution_count": 28,
   "metadata": {
    "ExecuteTime": {
     "end_time": "2020-05-07T18:00:02.582776Z",
     "start_time": "2020-05-07T18:00:02.575120Z"
    }
   },
   "outputs": [],
   "source": [
    "def single_channel_basic_filter(input_signal, filter_coef_array):\n",
    "    filtered = []\n",
    "    for band in range(len(filter_coef_array)):\n",
    "        filtered.append(convolve(filter_coef_array[band]/filter_coef_array[band].sum(), input_signal, mode='valid'))\n",
    "    return filtered"
   ]
  },
  {
   "cell_type": "code",
   "execution_count": 29,
   "metadata": {
    "ExecuteTime": {
     "end_time": "2020-05-07T18:00:03.153631Z",
     "start_time": "2020-05-07T18:00:03.114530Z"
    }
   },
   "outputs": [],
   "source": [
    "# https://www.vyssotski.ch/BasicsOfInstrumentation/SpikeSorting/Design_of_FIR_Filters.pdf\n",
    "# Design of FIR Filters\n",
    "# Elena Punskaya (www-sigproc.eng.cam.ac.uk/~op205 )\n",
    "\n",
    "# ============================\n",
    "#     FILTER COEFs\n",
    "# ============================\n",
    "\n",
    "filter_coef = []\n",
    "order = []\n",
    "cutoff = [0, 4, 8, 12, 30, 100]\n",
    "\n",
    "for band in range(0, len(cutoff)-1):\n",
    "    wl = 2*cutoff[band]/fs*np.pi\n",
    "    wh = 2*cutoff[band+1]/fs*np.pi\n",
    "    if not np.isinf(wh):\n",
    "        M = int(8*np.pi/(wh-wl))\n",
    "    else:\n",
    "        M = 512\n",
    "    bn = np.zeros(M)\n",
    "    for i in range(M):\n",
    "        n = i - M/2\n",
    "        # https://www.sciencedirect.com/topics/engineering/hamming-window\n",
    "        # Finite Impulse Response Filter Design\n",
    "        # Li Tan, Jean Jiang, in Digital Signal Processing (Second Edition), 2013\n",
    "        if (n == 0):\n",
    "            bn[i] = wh/np.pi - wl/np.pi;\n",
    "        elif not np.isinf(n):\n",
    "            bn[i] = (np.sin(wh*n))/(np.pi*n) - (np.sin(wl*n))/(np.pi*n)\n",
    "    bn = bn*hamming(M)\n",
    "    filter_coef.append(bn)\n",
    "    order.append(M)\n",
    "\n",
    "filter_coef_dict = {\n",
    "    'delta': filter_coef[0],\n",
    "    'theta': filter_coef[1],\n",
    "    'alpha': filter_coef[2],\n",
    "    'beta': filter_coef[3],\n",
    "    'gamma': filter_coef[4]\n",
    "}\n",
    "order_dict = {\n",
    "    'delta': order[0],\n",
    "    'theta': order[1],\n",
    "    'alpha': order[2],\n",
    "    'beta': order[3],\n",
    "    'gamma': order[4]\n",
    "}\n",
    "\n",
    "SAVE_FILTER_COEF = True\n",
    "if SAVE_FILTER_COEF:\n",
    "    for key in filter_coef_dict.keys():\n",
    "        np.savetxt(FILTER_COEF_ADR.format(key), filter_coef_dict[key], delimiter=\",\")"
   ]
  },
  {
   "cell_type": "code",
   "execution_count": 30,
   "metadata": {
    "ExecuteTime": {
     "end_time": "2020-05-07T18:00:05.584012Z",
     "start_time": "2020-05-07T18:00:05.582181Z"
    }
   },
   "outputs": [],
   "source": [
    "# filtered"
   ]
  },
  {
   "cell_type": "code",
   "execution_count": 19,
   "metadata": {
    "ExecuteTime": {
     "end_time": "2020-05-07T17:59:52.956781Z",
     "start_time": "2020-05-07T17:59:52.941770Z"
    }
   },
   "outputs": [
    {
     "ename": "NameError",
     "evalue": "name 'mat_seg' is not defined",
     "output_type": "error",
     "traceback": [
      "\u001b[0;31m---------------------------------------------------------------------------\u001b[0m",
      "\u001b[0;31mNameError\u001b[0m                                 Traceback (most recent call last)",
      "\u001b[0;32m<ipython-input-19-b772014455db>\u001b[0m in \u001b[0;36m<module>\u001b[0;34m\u001b[0m\n\u001b[1;32m      1\u001b[0m \u001b[0mfinal_output_signal\u001b[0m \u001b[0;34m=\u001b[0m \u001b[0;34m[\u001b[0m\u001b[0;34m]\u001b[0m\u001b[0;34m\u001b[0m\u001b[0;34m\u001b[0m\u001b[0m\n\u001b[1;32m      2\u001b[0m \u001b[0;32mfor\u001b[0m \u001b[0mi_channel\u001b[0m \u001b[0;32min\u001b[0m \u001b[0mrange\u001b[0m\u001b[0;34m(\u001b[0m\u001b[0;36m0\u001b[0m\u001b[0;34m,\u001b[0m \u001b[0;36m32\u001b[0m\u001b[0;34m)\u001b[0m\u001b[0;34m:\u001b[0m\u001b[0;34m\u001b[0m\u001b[0;34m\u001b[0m\u001b[0m\n\u001b[0;32m----> 3\u001b[0;31m     \u001b[0my\u001b[0m \u001b[0;34m=\u001b[0m \u001b[0mmat_seg\u001b[0m\u001b[0;34m[\u001b[0m\u001b[0mi_channel\u001b[0m\u001b[0;34m]\u001b[0m          \u001b[0;31m# the signal, study channel 'ch'\u001b[0m\u001b[0;34m\u001b[0m\u001b[0;34m\u001b[0m\u001b[0m\n\u001b[0m\u001b[1;32m      4\u001b[0m     \u001b[0mL\u001b[0m \u001b[0;34m=\u001b[0m \u001b[0mlen\u001b[0m\u001b[0;34m(\u001b[0m\u001b[0my\u001b[0m\u001b[0;34m)\u001b[0m                      \u001b[0;31m# signal length\u001b[0m\u001b[0;34m\u001b[0m\u001b[0;34m\u001b[0m\u001b[0m\n\u001b[1;32m      5\u001b[0m     \u001b[0mt\u001b[0m \u001b[0;34m=\u001b[0m \u001b[0mnp\u001b[0m\u001b[0;34m.\u001b[0m\u001b[0mlinspace\u001b[0m\u001b[0;34m(\u001b[0m\u001b[0;36m1\u001b[0m\u001b[0;34m,\u001b[0m\u001b[0mL\u001b[0m\u001b[0;34m,\u001b[0m\u001b[0mL\u001b[0m\u001b[0;34m)\u001b[0m\u001b[0;34m*\u001b[0m\u001b[0mT\u001b[0m        \u001b[0;31m# time vector\u001b[0m\u001b[0;34m\u001b[0m\u001b[0;34m\u001b[0m\u001b[0m\n",
      "\u001b[0;31mNameError\u001b[0m: name 'mat_seg' is not defined"
     ]
    }
   ],
   "source": [
    "final_output_signal = []\n",
    "for i_channel in range(0, 32):\n",
    "    y = mat_seg[i_channel]          # the signal, study channel 'ch'\n",
    "    L = len(y)                      # signal length\n",
    "    t = np.linspace(1,L,L)*T        # time vector\n",
    "    print(\"\\033[4mChannel \", i_channel,\"\\b started\\033[0m\")\n",
    "    \n",
    "    filtered = single_channel_basic_filter(y, filter_coef)\n",
    "    print(len(filtered), \"Channels filtered.\")\n",
    "    for i in range(len(filtered)):\n",
    "        print(\"Band\",i ,\"Length =\", len(filtered[i]))\n",
    "    \n",
    "    print(\"Windowing Signal...\")\n",
    "    windowed_signals = []\n",
    "    for i in range(len(filtered)):\n",
    "        windowed_signals.append(window_mean(filtered[i]))\n",
    "    \n",
    "    for i in range(len(windowed_signals)):\n",
    "        print(\"Band\",i ,\"Length =\", len(windowed_signals[i]))\n",
    "        \n",
    "    final_output_signal.append({\n",
    "        'delta': windowed_signals[0],\n",
    "        'theta': windowed_signals[1],\n",
    "        'alpha': windowed_signals[2],\n",
    "        'beta': windowed_signals[3],\n",
    "        'gamma': windowed_signals[4]\n",
    "    })\n",
    "    print()"
   ]
  },
  {
   "cell_type": "code",
   "execution_count": null,
   "metadata": {},
   "outputs": [],
   "source": []
  }
 ],
 "metadata": {
  "kernelspec": {
   "display_name": "Python 3",
   "language": "python",
   "name": "python3"
  },
  "language_info": {
   "codemirror_mode": {
    "name": "ipython",
    "version": 3
   },
   "file_extension": ".py",
   "mimetype": "text/x-python",
   "name": "python",
   "nbconvert_exporter": "python",
   "pygments_lexer": "ipython3",
   "version": "3.7.5"
  }
 },
 "nbformat": 4,
 "nbformat_minor": 2
}
